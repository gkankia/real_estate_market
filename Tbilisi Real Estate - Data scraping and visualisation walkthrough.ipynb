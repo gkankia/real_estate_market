{
 "cells": [
  {
   "cell_type": "markdown",
   "metadata": {},
   "source": [
    "# Tbilisi Real Estate Market Analysis\n",
    "\n",
    "Scrape real estate data and analyze using multiple libraries in Python for data visualization. \n",
    "Multiples steps, along with the codes used for each of them will be explained below."
   ]
  },
  {
   "cell_type": "markdown",
   "metadata": {},
   "source": [
    "## 00. Webscraping for real estate data"
   ]
  },
  {
   "cell_type": "code",
   "execution_count": null,
   "metadata": {},
   "outputs": [],
   "source": [
    "from bs4 import BeautifulSoup\n",
    "import requests\n",
    "import pandas as pd\n",
    "\n",
    "## add complete url to scrape data from \n",
    "\n",
    "url = ''\n",
    "\n",
    "## create new dictionary\n",
    "\n",
    "d = {'key':'value'}\n",
    "print (d)\n",
    "\n",
    "## update dictionary\n",
    "\n",
    "d['new key'] = 'new value'\n",
    "print (d)\n",
    "\n",
    "## do the actual scraping using html tags from the webpage\n",
    "\n",
    "npo_rentals = {}\n",
    "rental_no = 0\n",
    "while True:\n",
    "    \n",
    "    response = requests.get(url)\n",
    "    data = response.text\n",
    "    soup = BeautifulSoup(data, 'html.parser')\n",
    "    rentals = soup.find_all('div',{'class':'wrapper'})\n",
    "    \n",
    "    for rental in rentals:\n",
    "        title_tag = rental.find('h5',{'class':'card-title'})\n",
    "        title = title_tag.text if title_tag else \"N/A\"\n",
    "        location_tag = rental.find('div',{'class':'address'})\n",
    "        location = location_tag.text if location_tag else \"N/A\"\n",
    "        priceusd_tag = rental.find('b',{'class':'item-price-usd'})\n",
    "        priceusd = priceusd_tag.text if priceusd_tag else \"N/A\"\n",
    "        size_tag = rental.find('div',{'class':'item-size'})\n",
    "        size = size_tag.text if size_tag else \"N/A\"\n",
    "        date_tag = rental.find('div',{'class':'statement-date'})\n",
    "        date = date_tag.text if date_tag else \"N/A\"\n",
    "        rental_no+=1\n",
    "        npo_rentals[rental_no] = [title, location, priceusd, size, date] ## sort the scraped data by different variables\n",
    "        \n",
    "        \n",
    "        print('Rental:', title, '\\nLocation', location, '\\nPrice_USD:', priceusd, '\\nSize:', size, '\\nDate:', date, '\\n---')\n",
    "    url_tag = soup.find('li', {'class':'page-item number normal-item'})\n",
    "    if url_tag.get('href'):\n",
    "        url='' + url_tag.get('href') ## add the initial url of the webpage between brackets\n",
    "        print(url)\n",
    "    else:\n",
    "        break \n",
    "print(\"Total Rentals:\", rental_no)\n",
    "\n",
    "## order scraped data by column to be recored into the .csv file\n",
    "\n",
    "npo_rentals_df = pd.DataFrame.from_dict(npo_rentals, orient = 'index', columns = ['Rental', 'Location', 'Price_USD', 'Size', 'Date' ])\n",
    "\n",
    "## save to .csv file\n",
    "\n",
    "npo_rentals_df.to_csv('npo_rental.csv')"
   ]
  },
  {
   "cell_type": "markdown",
   "metadata": {},
   "source": [
    "Note: this code scrapes data from only one page. There are much complex scraping solutions out there that will automatically scrape data through all the pages available. I used this code for every page separately, by putting them into the same file and only modifying url and output file names."
   ]
  },
  {
   "cell_type": "markdown",
   "metadata": {},
   "source": [
    "## 01. Combining files into one .csv file.\n",
    "\n",
    "This code serves to combine all the exported data from multiple pages into one .csv file."
   ]
  },
  {
   "cell_type": "code",
   "execution_count": null,
   "metadata": {},
   "outputs": [],
   "source": [
    "import os\n",
    "import glob\n",
    "import pandas as pd\n",
    "os.chdir(\"## add the location where you would like to save the data here\")\n",
    "\n",
    "extension = 'csv'\n",
    "all_filenames = [i for i in glob.glob('*.{}'.format(extension))]\n",
    "\n",
    "#combine all files in the list\n",
    "combined_csv = pd.concat([pd.read_csv(f) for f in all_filenames ])\n",
    "\n",
    "#export to csv\n",
    "combined_csv.to_csv( \"combined_file.csv\", index=False, encoding='utf-8-sig')"
   ]
  },
  {
   "cell_type": "markdown",
   "metadata": {},
   "source": [
    "Now that we have scraped data combined into one .csv file, we can proceed to explore the data, analyze and plot."
   ]
  },
  {
   "cell_type": "markdown",
   "metadata": {},
   "source": [
    "## 1. Monthly Rental\n",
    "Analysis of per month apartment rental market (prices in GEL)"
   ]
  },
  {
   "cell_type": "markdown",
   "metadata": {},
   "source": [
    "### 1.1. Outliers in the dataset\n",
    "Detecting outliers for more accurate analysis"
   ]
  },
  {
   "cell_type": "code",
   "execution_count": null,
   "metadata": {},
   "outputs": [],
   "source": [
    "import pandas as pd\n",
    "import numpy as np\n",
    "import matplotlib.pyplot as plt\n",
    "from pandas import read_csv"
   ]
  },
  {
   "cell_type": "code",
   "execution_count": null,
   "metadata": {},
   "outputs": [],
   "source": [
    "df=read_csv('tbilisi_rent_monthly_original.csv')"
   ]
  },
  {
   "cell_type": "code",
   "execution_count": null,
   "metadata": {},
   "outputs": [],
   "source": [
    "df"
   ]
  },
  {
   "cell_type": "code",
   "execution_count": null,
   "metadata": {},
   "outputs": [],
   "source": [
    "plt.hist(df.Price_GEL)\n",
    "plt.show()"
   ]
  },
  {
   "cell_type": "markdown",
   "metadata": {},
   "source": [
    "This histogram shows that some 50 000 + observations from the dataset are concentrated within one bar but the scale goes up until 5 000 000, meaning that there must be statistically insignificant number of observations outside the histogram bar that are not visibe on the plot. To find out the exact number of outliers and their values, lower and upper bound must be set as shown below."
   ]
  },
  {
   "cell_type": "code",
   "execution_count": null,
   "metadata": {},
   "outputs": [],
   "source": [
    "lower_bound = 0.05\n",
    "upper_bound = 0.95\n",
    "res = df.Price_GEL.quantile([lower_bound, upper_bound])\n",
    "res"
   ]
  },
  {
   "cell_type": "markdown",
   "metadata": {},
   "source": [
    "...this means that any value below lower_bound and above upper_bound GEL are outliers and will have excessive impact on the final results. For more accurate analysis, one can remove any values below or above them, or keep on or the other, or both. For a statically more accurate analysis, it is advised to remove them. You can keep the original dataset and create a new one, with outliers removed and do the JoyPlot using that new dataset."
   ]
  },
  {
   "cell_type": "markdown",
   "metadata": {},
   "source": [
    "### 1.2. BoxPlot\n",
    "Creating boxplot to visualize outliers"
   ]
  },
  {
   "cell_type": "code",
   "execution_count": null,
   "metadata": {},
   "outputs": [],
   "source": [
    "import pandas as pd\n",
    "import seaborn as sns"
   ]
  },
  {
   "cell_type": "code",
   "execution_count": null,
   "metadata": {},
   "outputs": [],
   "source": [
    "rent = pd.read_csv('tbilisi_rent_monthly_original.csv')\n",
    "rent.head()"
   ]
  },
  {
   "cell_type": "code",
   "execution_count": null,
   "metadata": {
    "scrolled": false
   },
   "outputs": [],
   "source": [
    "ax = sns.boxplot(x='District', y= 'Price_GEL', data=rent)"
   ]
  },
  {
   "cell_type": "markdown",
   "metadata": {},
   "source": [
    "### 1.3. JoyPlot\n",
    "Plotting data from corrected dataset, without outliers\n",
    "#### 1.3.1. Rent price\n",
    "GEL"
   ]
  },
  {
   "cell_type": "code",
   "execution_count": null,
   "metadata": {},
   "outputs": [],
   "source": [
    "import joypy\n",
    "import pandas as pd\n",
    "from matplotlib import pyplot as plt\n",
    "from matplotlib import cm"
   ]
  },
  {
   "cell_type": "code",
   "execution_count": null,
   "metadata": {},
   "outputs": [],
   "source": [
    "rent = pd.read_csv('tbilisi_rent_monthly_corrected.csv')"
   ]
  },
  {
   "cell_type": "code",
   "execution_count": null,
   "metadata": {},
   "outputs": [],
   "source": [
    "rent = rent[['District','Price_GEL']]\n",
    "rent.head()"
   ]
  },
  {
   "cell_type": "code",
   "execution_count": null,
   "metadata": {},
   "outputs": [],
   "source": [
    "fig, ax = joypy.joyplot(data=rent, \n",
    "                        by = 'District',\n",
    "                        column=['Price_GEL'],\n",
    "                        labels = ['გლდანი','დიდუბე','ვაკე','ისანი','კრწანისი','მთაწმინდა','ნაძალადევი','საბურთალო','სამგორი','ჩუღურეთი'],\n",
    "                        colormap = plt.cm.tab20, \n",
    "                        alpha = 0.5, \n",
    "                        legend = False)\n",
    "\n",
    "plt.title('ქირავდება ბინა', y = 0.98, x = 0.39, size = 16, fontweight='bold')\n",
    "fig.suptitle('თვიური', y = 0.95, size = 14)\n",
    "plt.xlabel('ლარი', size = 8, fontweight='bold')\n",
    "\n",
    "fig.set_size_inches(12, 8)"
   ]
  },
  {
   "cell_type": "code",
   "execution_count": null,
   "metadata": {},
   "outputs": [],
   "source": [
    "fig.savefig('tbilisi_monthly_rent.pdf')"
   ]
  },
  {
   "cell_type": "markdown",
   "metadata": {},
   "source": [
    "ESSENTIALLY, REPEAT ALL THE PREVIOUS STEPS WITH OTHER TYPES OF RENTAL DATA, SUCH AS SALES, LEASE, RENT PER DAY, ETC."
   ]
  },
  {
   "cell_type": "markdown",
   "metadata": {},
   "source": [
    "# 3. Aggregating data\n",
    "\n",
    "As the scraped data contains more than 50k records, obviously, there is a need to aggregate that information to clearly identify major trends there."
   ]
  },
  {
   "cell_type": "markdown",
   "metadata": {},
   "source": [
    "Various tasks are needed to perform on this stage:\n",
    "1. Aggregate rental data on district level. \n",
    "2. Then real estate chracteristics, such as size or price (for this an outlier analysis is needed) will be grouped. \n",
    "3. All the aggregated and grouped data will be moved to a new dataframe and exported as a .csv file."
   ]
  },
  {
   "cell_type": "markdown",
   "metadata": {},
   "source": [
    "## 3.1. Grouping aggregated data\n",
    "by rental estate type (new or old apartment), district and price (USD/GEL). size outliers analysis will be performed in chapter 3.2 and aggregated in chapter 3.3."
   ]
  },
  {
   "cell_type": "code",
   "execution_count": null,
   "metadata": {},
   "outputs": [],
   "source": [
    "import pandas as pd\n",
    "import numpy as np\n",
    "from pandas import read_csv"
   ]
  },
  {
   "cell_type": "code",
   "execution_count": null,
   "metadata": {},
   "outputs": [],
   "source": [
    "df=read_csv('tbilisi_rent_monthly_corrected.csv')"
   ]
  },
  {
   "cell_type": "code",
   "execution_count": null,
   "metadata": {},
   "outputs": [],
   "source": [
    "## simple stats to explore dataset\n",
    "\n",
    "count1 = df['ID'].count()\n",
    "count2 = df['Rental'].count()\n",
    "\n",
    "mean1 = df['Price_USD'].mean()\n",
    "mean2 = df['Price_GEL'].mean()\n",
    "\n",
    "max1 = df['Price_USD'].max()\n",
    "max2 = df['Price_GEL'].max()\n",
    "max3 = df['Size_sq_m'].max()\n",
    "\n",
    "min1 = df['Price_USD'].min()\n",
    "min2 = df['Price_GEL'].min()\n",
    "min3 = df['Size_sq_m'].min()\n",
    "\n",
    "## grouping\n",
    "\n",
    "groupby_count1 = df.groupby(['District']).count() # total number of observations by district\n",
    "groupby_count2 = df.groupby(['Rental','District']).count() # total number of observations by rental estate (new or old) type and district \n",
    "groupby_mean1 = df.groupby(['Rental','District'])['Price_USD','Price_GEL'].mean() # mean of rental price by rental estate (new or old) type and district \n",
    "\n",
    "print ('Number of observations: ' + str(count1)) # returns the total number of observations from the dataset\n",
    "print ('Mean rent GEL: ' + str(mean2)) # returns mean price in GEL \n",
    "print ('count total \\n' + str(groupby_count1)) # returns groupby_count1 values\n",
    "print ('count total by district and rental type \\n' + str(groupby_count2)) # returns groupby_count2 values\n",
    "print ('mean price by rental estate type and district \\n' + str(groupby_mean1)) # returns groupby_mean1 values"
   ]
  },
  {
   "cell_type": "markdown",
   "metadata": {},
   "source": [
    "These values will be added to the new dataframe and create a .csv file with aggregated data (Chapter 6.4). But before that, outliers analysis is needed (size_sq_m or rent price variables). as an example, let's find the outliers in the size variable."
   ]
  },
  {
   "cell_type": "markdown",
   "metadata": {},
   "source": [
    "## 3.2. Outliers in size_sq_m variable"
   ]
  },
  {
   "cell_type": "code",
   "execution_count": null,
   "metadata": {},
   "outputs": [],
   "source": [
    "import pandas as pd\n",
    "import numpy as np\n",
    "import matplotlib.pyplot as plt\n",
    "from pandas import read_csv"
   ]
  },
  {
   "cell_type": "code",
   "execution_count": null,
   "metadata": {},
   "outputs": [],
   "source": [
    "df=read_csv('tbilisi_rent_monthly_size.csv')"
   ]
  },
  {
   "cell_type": "code",
   "execution_count": null,
   "metadata": {
    "scrolled": true
   },
   "outputs": [],
   "source": [
    "plt.hist(df.Size_sq_m)\n",
    "plt.show()"
   ]
  },
  {
   "cell_type": "code",
   "execution_count": null,
   "metadata": {
    "scrolled": false
   },
   "outputs": [],
   "source": [
    "lower_bound = 0.05\n",
    "upper_bound = 0.95\n",
    "res = df.Size_sq_m.quantile([lower_bound, upper_bound])\n",
    "res"
   ]
  },
  {
   "cell_type": "markdown",
   "metadata": {},
   "source": [
    "## 3.3. Grouping data by real estate type, district and size_sq_m "
   ]
  },
  {
   "cell_type": "code",
   "execution_count": null,
   "metadata": {},
   "outputs": [],
   "source": [
    "import pandas as pd\n",
    "import numpy as np\n",
    "from pandas import read_csv"
   ]
  },
  {
   "cell_type": "code",
   "execution_count": null,
   "metadata": {},
   "outputs": [],
   "source": [
    "df=read_csv('tbilisi_rent_monthly_size_corrected.csv')"
   ]
  },
  {
   "cell_type": "code",
   "execution_count": null,
   "metadata": {},
   "outputs": [],
   "source": [
    "## grouping\n",
    "## mean of rental price by rental estate (new or old) type, district and size_sq_m\n",
    "\n",
    "groupby_mean_size = df.groupby(['Rental','District'])['Size_sq_m'].mean() \n",
    "print ('mean price by rental estate type and district \\n' + str(groupby_mean_size)) returns groupby_mean_size values"
   ]
  },
  {
   "cell_type": "markdown",
   "metadata": {},
   "source": [
    "Now, with the outliers analysis done, and new dataset loaded with corrected information on size_sq_m variable, a new dataframe will be created and exported to .cvs file."
   ]
  },
  {
   "cell_type": "code",
   "execution_count": null,
   "metadata": {},
   "outputs": [],
   "source": [
    "from pandas import DataFrame\n",
    "\n",
    "rent = {'District': ['საბურთალო', 'ვაკე', 'დიდუბე', 'მთაწმინდა', 'კრწანისი', 'ნაძალადევი', 'ჩუღურეთი', 'გლდანი', 'ისანი', 'სამგორი'],\n",
    "        'Total': [26108, 8551, 4770, 4284, 2001, 1803, 1619, 1396, 893, 62],\n",
    "        'NUM_NEW': [21410, 7093, 3602, 2824, 1655, 1572, 817, 1247, 712, 56],\n",
    "        'NUM_OLD':[4698, 1457, 1168, 1461, 346, 231, 802, 149, 181, 6],\n",
    "        'MEAN_USD_NEW':[498, 684, 382, 704, 503, 324, 516, 306, 450, 303],\n",
    "        'MEAN_USD_OLD':[330, 463, 305, 492, 405, 277, 401, 261, 324, 251],\n",
    "        'MEAN_GEL_NEW':[1444, 1985, 1109, 2043, 1460, 942, 1498, 889, 1307, 880],\n",
    "        'MEAN_GEL_OLD':[957, 1344, 885, 1427, 1174, 805, 1163, 758, 939, 729],        \n",
    "        'MEAN_SIZE_NEW':[76, 88, 70, 89, 79, 64, 75, 62, 70, 61],\n",
    "        'MEAN_SIZE_OLD':[66, 77, 70, 69, 69, 65, 66, 70, 61, 60]}\n",
    "\n",
    "df = DataFrame(rent, columns=['District', 'Total', 'NUM_NEW', 'NUM_OLD', 'MEAN_USD_NEW', 'MEAN_USD_OLD', 'MEAN_GEL_NEW', 'MEAN_GEL_OLD', 'MEAN_SIZE_NEW', 'MEAN_SIZE_OLD'])\n",
    "\n",
    "export_csv = df.to_csv (r'/Users/gkankia/Desktop/Tbilisi Real Estate Market/agg_rent_monthly.csv', index=True, header=True, encoding='utf-8-sig') #Don't forget to add '.csv' at the end of the path\n",
    "\n",
    "print (df)"
   ]
  },
  {
   "cell_type": "markdown",
   "metadata": {},
   "source": [
    "# 4. Visualization of aggregated data"
   ]
  },
  {
   "cell_type": "markdown",
   "metadata": {},
   "source": [
    "After the aggregation, data will now be plotted in a visually understanding manner"
   ]
  },
  {
   "cell_type": "markdown",
   "metadata": {},
   "source": [
    "## 4.1. Double Doughnut pie"
   ]
  },
  {
   "cell_type": "markdown",
   "metadata": {},
   "source": [
    "This chart shows the number of rental properties by type and district"
   ]
  },
  {
   "cell_type": "code",
   "execution_count": null,
   "metadata": {},
   "outputs": [],
   "source": [
    "import matplotlib as mpl\n",
    "import matplotlib.pyplot as plt"
   ]
  },
  {
   "cell_type": "code",
   "execution_count": null,
   "metadata": {},
   "outputs": [],
   "source": [
    "# Data to plot\n",
    "\n",
    "mpl.rcParams['font.size'] = 12\n",
    "labels_group = ['საბურთალო', 'ვაკე','დიდუბე','მთაწმინდა','კრწანისი','ნაძალადევი','ჩუღურეთი','გლდანი','ისანი','სამგორი']\n",
    "sizes_group = [261,85,47,42,20,18,16,13,8,0.6]\n",
    "labels_sub = ['1444','ახალი','ძველი','ახალი','ძველი','ახალი','ძველი','ახალი','ძველი','ახალი','ძველი','ახალი','ძველი','ახალი','ძველი','ახალი','ძველი','ახალი','ძველი','ახალი']\n",
    "sizes_sub = [214,47,70,15,36,11,28,14,17,3,15,3,8,8,12,1,7,1,0.5,0.1]\n",
    "colors_group = ['#081d58','#253494','#225ea8','#1d91c0','#4eb3d3','#41b6c4','#7fcdbb','#c7e9b4','#edf8b1','#ffffd9']\n",
    "colors_sub = ['#92c5de','#d1e5f0']\n",
    "\n",
    "# Plot\n",
    "\n",
    "plt.pie(sizes_group, labels=labels_group, radius=1, colors=colors_group, labeldistance=1, wedgeprops=dict(width=1.5, edgecolor='white'), counterclock=False, startangle=90, frame=True, rotatelabels=True)\n",
    "plt.pie(sizes_sub, colors=colors_sub, radius=0.8, counterclock=False, startangle=90, wedgeprops=dict(width=1, edgecolor='white'))\n",
    "centre_circle = plt.Circle((0,0),0.6,color='#d6604d', fc='white',linewidth=5)\n",
    "fig = plt.gcf()\n",
    "fig.gca().add_artist(centre_circle)\n",
    "plt.axis('equal')\n",
    "plt.title('გასაქირავებელი უძრავი ქონების განაწილება', size = 16, y = 1, x = 0.5, fontweight='bold') \n",
    "plt.legend(loc='center left')\n",
    "plt.tight_layout()\n",
    "plt.show()\n",
    "fig.set_size_inches(12, 8)"
   ]
  },
  {
   "cell_type": "code",
   "execution_count": null,
   "metadata": {},
   "outputs": [],
   "source": [
    "fig.savefig('tbilisi_rent_bar_2.pdf') ## this function will save the output as pdf file."
   ]
  },
  {
   "cell_type": "markdown",
   "metadata": {},
   "source": [
    "## 4.2. Dumbbell Plot\n",
    "### 7.2.1. Difference of rental price"
   ]
  },
  {
   "cell_type": "markdown",
   "metadata": {},
   "source": [
    "This chart shows the difference in rental prices between old and newly-built apartments."
   ]
  },
  {
   "cell_type": "code",
   "execution_count": null,
   "metadata": {},
   "outputs": [],
   "source": [
    "import pandas as pd\n",
    "import matplotlib.pyplot as plt"
   ]
  },
  {
   "cell_type": "code",
   "execution_count": null,
   "metadata": {},
   "outputs": [],
   "source": [
    "df = pd.read_csv('agg_rent_monthly_1.csv')"
   ]
  },
  {
   "cell_type": "code",
   "execution_count": null,
   "metadata": {},
   "outputs": [],
   "source": [
    "ordered_df = df.sort_values(by='DistrictID') #this column DistrictID was added to the file agg_rent_monthly.csv created in step 6.3 \n",
    "my_range=range(1,len(df.index)+1)"
   ]
  },
  {
   "cell_type": "code",
   "execution_count": null,
   "metadata": {
    "scrolled": false
   },
   "outputs": [],
   "source": [
    "fig, ax = plt.subplots()\n",
    "    \n",
    "rect = ax\n",
    "rect.set_facecolor('white') \n",
    "\n",
    "# setting plot background color. \n",
    "# Add the previous two lines of code if you want other colors as a background rather then white, which is default\n",
    "\n",
    "plt.hlines(y=my_range, xmin=ordered_df['MEAN_GEL_OLD'], xmax=ordered_df['MEAN_GEL_NEW'], color='#7bccc4', alpha=1, linewidth=2, zorder=2, facecolor='#d5de9c')\n",
    "plt.scatter(ordered_df['MEAN_GEL_OLD'], my_range, color='#a8ddb5', alpha=1, label='ძველი აშენებული', s=120, zorder=3)\n",
    "plt.scatter(ordered_df['MEAN_GEL_NEW'], my_range, color='#1d91c0', alpha=1, label='ახალი აშენებული', s=120, zorder=3)\n",
    "plt.legend(fontsize=12)\n",
    "\n",
    "# Add title, axis, names and customize further\n",
    "\n",
    "plt.yticks(my_range, ordered_df['District'])\n",
    "plt.title('ძველი და ახალი აშენებული ბინის \\n საშუალო ქირა (თვეში)', size = 16, fontweight='bold', loc='center')\n",
    "plt.xlabel('ლარი', size = 8, fontweight='bold')\n",
    "plt.gca().invert_yaxis() # by default order was be from bottom to top\n",
    "plt.grid(axis='y', color='#e0f3db', linestyle='-', linewidth=1, zorder=1)\n",
    "fig.set_size_inches(12, 8)"
   ]
  },
  {
   "cell_type": "code",
   "execution_count": null,
   "metadata": {},
   "outputs": [],
   "source": [
    "fig.savefig('tbilisi_rent_dumbbell_plot.pdf')"
   ]
  },
  {
   "cell_type": "markdown",
   "metadata": {},
   "source": [
    "### 7.2.2. Difference of rental apartment size"
   ]
  },
  {
   "cell_type": "markdown",
   "metadata": {},
   "source": [
    "This chart shows the difference in living space sizes (sq.m.) between old and newly-built apartments."
   ]
  },
  {
   "cell_type": "code",
   "execution_count": null,
   "metadata": {},
   "outputs": [],
   "source": [
    "import pandas as pd\n",
    "import matplotlib.pyplot as plt"
   ]
  },
  {
   "cell_type": "code",
   "execution_count": null,
   "metadata": {},
   "outputs": [],
   "source": [
    "df = pd.read_csv('agg_rent_monthly.csv')"
   ]
  },
  {
   "cell_type": "code",
   "execution_count": null,
   "metadata": {},
   "outputs": [],
   "source": [
    "ordered_df = df.sort_values(by='DistrictID') #this column DistrictID was added to the file agg_rent_monthly.csv created in step 6.3 \n",
    "my_range=range(1,len(df.index)+1)"
   ]
  },
  {
   "cell_type": "code",
   "execution_count": null,
   "metadata": {
    "scrolled": false
   },
   "outputs": [],
   "source": [
    "fig, ax = plt.subplots()\n",
    "    \n",
    "rect = ax\n",
    "rect.set_facecolor('white') # setting plot background color\n",
    "plt.hlines(y=my_range, xmin=ordered_df['MEAN_SIZE_OLD'], xmax=ordered_df['MEAN_SIZE_NEW'], color='#f768a1', alpha=1, linewidth=2, zorder=2, facecolor='#d5de9c')\n",
    "plt.scatter(ordered_df['MEAN_SIZE_OLD'], my_range, color='#fcc5c0', alpha=1, label='ძველი აშენებული', s=120, zorder=3)\n",
    "plt.scatter(ordered_df['MEAN_SIZE_NEW'], my_range, color='#dd3497', alpha=1, label='ახალი აშენებული', s=120, zorder=3)\n",
    "plt.legend(fontsize=12)\n",
    "\n",
    "# Add title, axis, names and customize further\n",
    "plt.yticks(my_range, ordered_df['District'])\n",
    "plt.title('ძველი და ახალი აშენებული ბინის \\n საერთო ფართი (კვ.მ.)', size = 16, fontweight='bold', loc='center')\n",
    "plt.xlabel('კვ.მ.', size = 8, fontweight='bold')\n",
    "plt.gca().invert_yaxis() # by default order was be from bottom to top\n",
    "plt.grid(axis='y', color='#fde0dd', linestyle='-', linewidth=1, zorder=1)\n",
    "fig.set_size_inches(12, 8)"
   ]
  },
  {
   "cell_type": "code",
   "execution_count": null,
   "metadata": {},
   "outputs": [],
   "source": [
    "fig.savefig('tbilisi_rent_size_dumbbell_plot.pdf')"
   ]
  },
  {
   "cell_type": "code",
   "execution_count": null,
   "metadata": {},
   "outputs": [],
   "source": []
  }
 ],
 "metadata": {
  "kernelspec": {
   "display_name": "Python 3",
   "language": "python",
   "name": "python3"
  },
  "language_info": {
   "codemirror_mode": {
    "name": "ipython",
    "version": 3
   },
   "file_extension": ".py",
   "mimetype": "text/x-python",
   "name": "python",
   "nbconvert_exporter": "python",
   "pygments_lexer": "ipython3",
   "version": "3.7.4"
  }
 },
 "nbformat": 4,
 "nbformat_minor": 2
}
